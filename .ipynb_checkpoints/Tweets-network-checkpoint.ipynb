{
 "cells": [
  {
   "cell_type": "markdown",
   "id": "b1f5d283",
   "metadata": {},
   "source": [
    "# Tweets_with_location Dataset"
   ]
  },
  {
   "cell_type": "markdown",
   "id": "581a329b",
   "metadata": {
    "heading_collapsed": true
   },
   "source": [
    "## Downloading dataset"
   ]
  },
  {
   "cell_type": "code",
   "execution_count": 1,
   "id": "78acb3a5",
   "metadata": {
    "hidden": true
   },
   "outputs": [],
   "source": [
    "import pandas as pd\n",
    "\n",
    "file_path = 'Tweets_with_location.csv'\n",
    "try:\n",
    "    tweets_df = pd.read_csv(file_path, encoding='ISO-8859-1')\n",
    "except UnicodeDecodeError as e:\n",
    "    print(f\"Error loading file: {e}\")"
   ]
  },
  {
   "cell_type": "code",
   "execution_count": 2,
   "id": "b6c807a0",
   "metadata": {
    "hidden": true
   },
   "outputs": [
    {
     "data": {
      "text/html": [
       "<div>\n",
       "<style scoped>\n",
       "    .dataframe tbody tr th:only-of-type {\n",
       "        vertical-align: middle;\n",
       "    }\n",
       "\n",
       "    .dataframe tbody tr th {\n",
       "        vertical-align: top;\n",
       "    }\n",
       "\n",
       "    .dataframe thead th {\n",
       "        text-align: right;\n",
       "    }\n",
       "</style>\n",
       "<table border=\"1\" class=\"dataframe\">\n",
       "  <thead>\n",
       "    <tr style=\"text-align: right;\">\n",
       "      <th></th>\n",
       "      <th>Name</th>\n",
       "      <th>UserName</th>\n",
       "      <th>Time</th>\n",
       "      <th>Text</th>\n",
       "      <th>Likes</th>\n",
       "      <th>Retweets</th>\n",
       "      <th>TweetURL</th>\n",
       "      <th>UserURL</th>\n",
       "      <th>City</th>\n",
       "      <th>Country</th>\n",
       "      <th>Unnamed: 10</th>\n",
       "      <th>Unnamed: 11</th>\n",
       "    </tr>\n",
       "  </thead>\n",
       "  <tbody>\n",
       "    <tr>\n",
       "      <th>0</th>\n",
       "      <td>Gerald Butts</td>\n",
       "      <td>gmbutts</td>\n",
       "      <td>1/24/2022 22:24</td>\n",
       "      <td>I'm glad serious researchers are taking up thi...</td>\n",
       "      <td>17.0</td>\n",
       "      <td>50.0</td>\n",
       "      <td>https://twitter.com/gmbutts/status/14857402380...</td>\n",
       "      <td>https://twitter.com/gmbutts</td>\n",
       "      <td>0</td>\n",
       "      <td>0</td>\n",
       "      <td>NaN</td>\n",
       "      <td>NaN</td>\n",
       "    </tr>\n",
       "    <tr>\n",
       "      <th>1</th>\n",
       "      <td>Gerald Butts</td>\n",
       "      <td>gmbutts</td>\n",
       "      <td>1/24/2022 22:27</td>\n",
       "      <td>1. Partisan adhesion in Canada is weak and par...</td>\n",
       "      <td>2.0</td>\n",
       "      <td>31.0</td>\n",
       "      <td>https://twitter.com/gmbutts/status/14857409939...</td>\n",
       "      <td>https://twitter.com/gmbutts</td>\n",
       "      <td>0</td>\n",
       "      <td>0</td>\n",
       "      <td>NaN</td>\n",
       "      <td>NaN</td>\n",
       "    </tr>\n",
       "    <tr>\n",
       "      <th>2</th>\n",
       "      <td>Abigail Boyd</td>\n",
       "      <td>AbigailBoydMLC</td>\n",
       "      <td>3/7/2022 23:46</td>\n",
       "      <td>Minister Ayers, what are you doing to assist t...</td>\n",
       "      <td>8.0</td>\n",
       "      <td>12.0</td>\n",
       "      <td>https://twitter.com/AbigailBoydMLC/status/1500...</td>\n",
       "      <td>https://twitter.com/AbigailBoydMLC</td>\n",
       "      <td>0</td>\n",
       "      <td>0</td>\n",
       "      <td>NaN</td>\n",
       "      <td>NaN</td>\n",
       "    </tr>\n",
       "    <tr>\n",
       "      <th>3</th>\n",
       "      <td>Warren Gunnels</td>\n",
       "      <td>GunnelsWarren</td>\n",
       "      <td>2/22/2022 23:49</td>\n",
       "      <td>I want cable news to cover the child poverty r...</td>\n",
       "      <td>5418.0</td>\n",
       "      <td>203000.0</td>\n",
       "      <td>https://twitter.com/GunnelsWarren/status/14962...</td>\n",
       "      <td>https://twitter.com/GunnelsWarren</td>\n",
       "      <td>0</td>\n",
       "      <td>0</td>\n",
       "      <td>NaN</td>\n",
       "      <td>NaN</td>\n",
       "    </tr>\n",
       "    <tr>\n",
       "      <th>4</th>\n",
       "      <td>Scalawag</td>\n",
       "      <td>scalawagmag</td>\n",
       "      <td>3/21/2022 21:45</td>\n",
       "      <td>\"If we don't adapt the internet to the reality...</td>\n",
       "      <td>1.0</td>\n",
       "      <td>9.0</td>\n",
       "      <td>https://twitter.com/scalawagmag/status/1506024...</td>\n",
       "      <td>https://twitter.com/scalawagmag</td>\n",
       "      <td>0</td>\n",
       "      <td>0</td>\n",
       "      <td>NaN</td>\n",
       "      <td>NaN</td>\n",
       "    </tr>\n",
       "  </tbody>\n",
       "</table>\n",
       "</div>"
      ],
      "text/plain": [
       "             Name        UserName             Time  \\\n",
       "0    Gerald Butts         gmbutts  1/24/2022 22:24   \n",
       "1    Gerald Butts         gmbutts  1/24/2022 22:27   \n",
       "2    Abigail Boyd  AbigailBoydMLC   3/7/2022 23:46   \n",
       "3  Warren Gunnels   GunnelsWarren  2/22/2022 23:49   \n",
       "4        Scalawag     scalawagmag  3/21/2022 21:45   \n",
       "\n",
       "                                                Text   Likes  Retweets  \\\n",
       "0  I'm glad serious researchers are taking up thi...    17.0      50.0   \n",
       "1  1. Partisan adhesion in Canada is weak and par...     2.0      31.0   \n",
       "2  Minister Ayers, what are you doing to assist t...     8.0      12.0   \n",
       "3  I want cable news to cover the child poverty r...  5418.0  203000.0   \n",
       "4  \"If we don't adapt the internet to the reality...     1.0       9.0   \n",
       "\n",
       "                                            TweetURL  \\\n",
       "0  https://twitter.com/gmbutts/status/14857402380...   \n",
       "1  https://twitter.com/gmbutts/status/14857409939...   \n",
       "2  https://twitter.com/AbigailBoydMLC/status/1500...   \n",
       "3  https://twitter.com/GunnelsWarren/status/14962...   \n",
       "4  https://twitter.com/scalawagmag/status/1506024...   \n",
       "\n",
       "                              UserURL City Country  Unnamed: 10  Unnamed: 11  \n",
       "0         https://twitter.com/gmbutts    0       0          NaN          NaN  \n",
       "1         https://twitter.com/gmbutts    0       0          NaN          NaN  \n",
       "2  https://twitter.com/AbigailBoydMLC    0       0          NaN          NaN  \n",
       "3   https://twitter.com/GunnelsWarren    0       0          NaN          NaN  \n",
       "4     https://twitter.com/scalawagmag    0       0          NaN          NaN  "
      ]
     },
     "execution_count": 2,
     "metadata": {},
     "output_type": "execute_result"
    }
   ],
   "source": [
    "# Display the first few rows of the dataframe for an initial assessment\n",
    "tweets_df.head()"
   ]
  },
  {
   "cell_type": "markdown",
   "id": "d3ae9cae",
   "metadata": {
    "heading_collapsed": true
   },
   "source": [
    "## Data cleaning"
   ]
  },
  {
   "cell_type": "code",
   "execution_count": 7,
   "id": "a8d82d1d",
   "metadata": {
    "hidden": true
   },
   "outputs": [],
   "source": [
    "# Handle Missing Data:\n",
    "\n",
    "def handle_missing_data(df):\n",
    "    # Create a copy of the DataFrame to avoid warnings\n",
    "    df_cleaned = df.copy()\n",
    "    \n",
    "    # Drop rows with missing values in specified columns\n",
    "    columns_to_drop_na = ['Name', 'UserName', 'Time', 'Text', 'TweetURL', 'UserURL']\n",
    "    df_cleaned.dropna(subset=columns_to_drop_na, inplace=True)\n",
    "    \n",
    "    # Fill missing values in 'Likes' and 'Retweets' with 0\n",
    "    df_cleaned['Likes'].fillna(0, inplace=True)\n",
    "    df_cleaned['Retweets'].fillna(0, inplace=True)\n",
    "    \n",
    "    # Drop the 'Country' column if not needed\n",
    "    if 'Country' in df_cleaned.columns:\n",
    "        df_cleaned.drop(columns=['Country'], inplace=True)\n",
    "    \n",
    "    return df_cleaned"
   ]
  },
  {
   "cell_type": "code",
   "execution_count": 8,
   "id": "12e9e11d",
   "metadata": {
    "hidden": true
   },
   "outputs": [],
   "source": [
    "# Data Type Conversion:\n",
    "\n",
    "def convert_data_types(df):\n",
    "    # Create a copy of the DataFrame to avoid warnings\n",
    "    df_converted = df.copy()\n",
    "    \n",
    "    # Convert 'Time' column to datetime\n",
    "    df_converted['Time'] = pd.to_datetime(df_converted['Time'])\n",
    "    \n",
    "    # Convert 'Likes' and 'Retweets' to integers\n",
    "    df_converted['Likes'] = df_converted['Likes'].astype(int)\n",
    "    df_converted['Retweets'] = df_converted['Retweets'].astype(int)\n",
    "    \n",
    "    return df_converted"
   ]
  },
  {
   "cell_type": "code",
   "execution_count": 9,
   "id": "29b42fd5",
   "metadata": {
    "hidden": true
   },
   "outputs": [],
   "source": [
    "# Text Cleaning:\n",
    "\n",
    "def clean_text(df):\n",
    "    # Create a copy of the DataFrame to avoid warnings\n",
    "    df_cleaned_text = df.copy()\n",
    "    \n",
    "    # Remove URLs from 'Text' column\n",
    "    df_cleaned_text['Text'] = df_cleaned_text['Text'].apply(lambda x: re.sub(r'http\\S+', '', x))\n",
    "    \n",
    "    # Add more text cleaning steps as needed, e.g., removing special characters, hashtags, mentions.\n",
    "    \n",
    "    return df_cleaned_text"
   ]
  },
  {
   "cell_type": "code",
   "execution_count": 14,
   "id": "4915b72a",
   "metadata": {
    "hidden": true
   },
   "outputs": [
    {
     "name": "stdout",
     "output_type": "stream",
     "text": [
      "\n",
      "DataFrame after handling missing data:\n",
      "             Name        UserName                Time  \\\n",
      "0    Gerald Butts         gmbutts 2022-01-24 22:24:00   \n",
      "1    Gerald Butts         gmbutts 2022-01-24 22:27:00   \n",
      "2    Abigail Boyd  AbigailBoydMLC 2022-03-07 23:46:00   \n",
      "3  Warren Gunnels   GunnelsWarren 2022-02-22 23:49:00   \n",
      "4        Scalawag     scalawagmag 2022-03-21 21:45:00   \n",
      "\n",
      "                                                Text  Likes  Retweets  \\\n",
      "0  I'm glad serious researchers are taking up thi...     17        50   \n",
      "1  1. Partisan adhesion in Canada is weak and par...      2        31   \n",
      "2  Minister Ayers, what are you doing to assist t...      8        12   \n",
      "3  I want cable news to cover the child poverty r...   5418    203000   \n",
      "4  \"If we don't adapt the internet to the reality...      1         9   \n",
      "\n",
      "                                            TweetURL  \\\n",
      "0  https://twitter.com/gmbutts/status/14857402380...   \n",
      "1  https://twitter.com/gmbutts/status/14857409939...   \n",
      "2  https://twitter.com/AbigailBoydMLC/status/1500...   \n",
      "3  https://twitter.com/GunnelsWarren/status/14962...   \n",
      "4  https://twitter.com/scalawagmag/status/1506024...   \n",
      "\n",
      "                              UserURL City  Unnamed: 10  Unnamed: 11  \n",
      "0         https://twitter.com/gmbutts    0          NaN          NaN  \n",
      "1         https://twitter.com/gmbutts    0          NaN          NaN  \n",
      "2  https://twitter.com/AbigailBoydMLC    0          NaN          NaN  \n",
      "3   https://twitter.com/GunnelsWarren    0          NaN          NaN  \n",
      "4     https://twitter.com/scalawagmag    0          NaN          NaN  \n",
      "\n",
      "DataFrame after data type conversion:\n",
      "             Name        UserName                Time  \\\n",
      "0    Gerald Butts         gmbutts 2022-01-24 22:24:00   \n",
      "1    Gerald Butts         gmbutts 2022-01-24 22:27:00   \n",
      "2    Abigail Boyd  AbigailBoydMLC 2022-03-07 23:46:00   \n",
      "3  Warren Gunnels   GunnelsWarren 2022-02-22 23:49:00   \n",
      "4        Scalawag     scalawagmag 2022-03-21 21:45:00   \n",
      "\n",
      "                                                Text  Likes  Retweets  \\\n",
      "0  I'm glad serious researchers are taking up thi...     17        50   \n",
      "1  1. Partisan adhesion in Canada is weak and par...      2        31   \n",
      "2  Minister Ayers, what are you doing to assist t...      8        12   \n",
      "3  I want cable news to cover the child poverty r...   5418    203000   \n",
      "4  \"If we don't adapt the internet to the reality...      1         9   \n",
      "\n",
      "                                            TweetURL  \\\n",
      "0  https://twitter.com/gmbutts/status/14857402380...   \n",
      "1  https://twitter.com/gmbutts/status/14857409939...   \n",
      "2  https://twitter.com/AbigailBoydMLC/status/1500...   \n",
      "3  https://twitter.com/GunnelsWarren/status/14962...   \n",
      "4  https://twitter.com/scalawagmag/status/1506024...   \n",
      "\n",
      "                              UserURL City  Unnamed: 10  Unnamed: 11  \n",
      "0         https://twitter.com/gmbutts    0          NaN          NaN  \n",
      "1         https://twitter.com/gmbutts    0          NaN          NaN  \n",
      "2  https://twitter.com/AbigailBoydMLC    0          NaN          NaN  \n",
      "3   https://twitter.com/GunnelsWarren    0          NaN          NaN  \n",
      "4     https://twitter.com/scalawagmag    0          NaN          NaN  \n",
      "\n",
      "DataFrame after text cleaning:\n",
      "             Name        UserName                Time  \\\n",
      "0    Gerald Butts         gmbutts 2022-01-24 22:24:00   \n",
      "1    Gerald Butts         gmbutts 2022-01-24 22:27:00   \n",
      "2    Abigail Boyd  AbigailBoydMLC 2022-03-07 23:46:00   \n",
      "3  Warren Gunnels   GunnelsWarren 2022-02-22 23:49:00   \n",
      "4        Scalawag     scalawagmag 2022-03-21 21:45:00   \n",
      "\n",
      "                                                Text  Likes  Retweets  \\\n",
      "0  I'm glad serious researchers are taking up thi...     17        50   \n",
      "1  1. Partisan adhesion in Canada is weak and par...      2        31   \n",
      "2  Minister Ayers, what are you doing to assist t...      8        12   \n",
      "3  I want cable news to cover the child poverty r...   5418    203000   \n",
      "4  \"If we don't adapt the internet to the reality...      1         9   \n",
      "\n",
      "                                            TweetURL  \\\n",
      "0  https://twitter.com/gmbutts/status/14857402380...   \n",
      "1  https://twitter.com/gmbutts/status/14857409939...   \n",
      "2  https://twitter.com/AbigailBoydMLC/status/1500...   \n",
      "3  https://twitter.com/GunnelsWarren/status/14962...   \n",
      "4  https://twitter.com/scalawagmag/status/1506024...   \n",
      "\n",
      "                              UserURL City  Unnamed: 10  Unnamed: 11  \n",
      "0         https://twitter.com/gmbutts    0          NaN          NaN  \n",
      "1         https://twitter.com/gmbutts    0          NaN          NaN  \n",
      "2  https://twitter.com/AbigailBoydMLC    0          NaN          NaN  \n",
      "3   https://twitter.com/GunnelsWarren    0          NaN          NaN  \n",
      "4     https://twitter.com/scalawagmag    0          NaN          NaN  \n"
     ]
    }
   ],
   "source": [
    "# Clean the dataset\n",
    "tweets_df = handle_missing_data(tweets_df)\n",
    "print(\"\\nDataFrame after handling missing data:\")\n",
    "print(tweets_df.head())\n",
    "\n",
    "tweets_df = convert_data_types(tweets_df)\n",
    "print(\"\\nDataFrame after data type conversion:\")\n",
    "print(tweets_df.head())\n",
    "\n",
    "tweets_df = clean_text(tweets_df)\n",
    "print(\"\\nDataFrame after text cleaning:\")\n",
    "print(tweets_df.head())\n",
    "\n",
    "# Now, tweets_df contains the cleaned data."
   ]
  },
  {
   "cell_type": "markdown",
   "id": "3e7fe602",
   "metadata": {
    "heading_collapsed": true
   },
   "source": [
    "## Data Processing Functions"
   ]
  },
  {
   "cell_type": "code",
   "execution_count": 31,
   "id": "0bc6c949",
   "metadata": {
    "hidden": true
   },
   "outputs": [],
   "source": [
    "def handle_missing_data(df):\n",
    "    # Handle missing data as discussed earlier\n",
    "    return df\n",
    "\n",
    "def convert_data_types(df):\n",
    "    # Convert data types as discussed earlier\n",
    "    return df\n",
    "\n",
    "def clean_text(df):\n",
    "    # Clean text data as discussed earlier\n",
    "    return df"
   ]
  },
  {
   "cell_type": "code",
   "execution_count": 32,
   "id": "2a1dbefa",
   "metadata": {
    "hidden": true
   },
   "outputs": [],
   "source": [
    "# Outlier Analysis Function \n",
    "\n",
    "def outlier_analysis(df, column_name):\n",
    "    # Implement outlier analysis on a specific column (e.g., Likes, Retweets)\n",
    "    # Use statistical methods like Z-score or IQR to identify outliers\n",
    "    # Optionally, visualize the outliers\n",
    "    return df_with_outliers_removed  # Return a DataFrame with outliers removed"
   ]
  },
  {
   "cell_type": "code",
   "execution_count": 33,
   "id": "6f5dbf4e",
   "metadata": {
    "hidden": true
   },
   "outputs": [],
   "source": [
    "import networkx as nx\n",
    "import community  # Import the community module for community detection\n",
    "\n",
    "# Function to create the Twitter interaction network\n",
    "def create_twitter_network(df):\n",
    "    # Create a network representation of Twitter interactions\n",
    "    G = nx.Graph()\n",
    "    \n",
    "    # Add nodes (Twitter users)\n",
    "    for user in df['UserName']:\n",
    "        G.add_node(user)\n",
    "    \n",
    "    # Add edges (interactions - retweets)\n",
    "    for index, row in df.iterrows():\n",
    "        if row['Retweets'] > 0:\n",
    "            G.add_edge(row['UserName'], row['Retweets'])\n",
    "    \n",
    "    return G  # Return the created network\n",
    "\n",
    "# Function to analyze the Twitter network\n",
    "def analyze_twitter_network(G):\n",
    "    # Analyze the Twitter network (e.g., calculate centrality measures, detect communities)\n",
    "    \n",
    "    # Example: Calculate degree centrality for each node\n",
    "    degree_centrality = nx.degree_centrality(G)\n",
    "    \n",
    "    # Example: Detect communities using Louvain method from the community module\n",
    "    partition = community.best_partition(G)\n",
    "    \n",
    "    return degree_centrality, partition  # Return the results of network analysis\n",
    "\n",
    "# Create the Twitter interaction network\n",
    "twitter_network = create_twitter_network(tweets_df)\n",
    "\n",
    "# Analyze the Twitter network\n",
    "degree_centrality, communities = analyze_twitter_network(twitter_network)\n",
    "\n",
    "# We can now use degree_centrality and communities for further analysis."
   ]
  },
  {
   "cell_type": "code",
   "execution_count": 34,
   "id": "e2c42a94",
   "metadata": {
    "hidden": true
   },
   "outputs": [],
   "source": [
    "# Print degree centrality for each user\n",
    "#for user, centrality in degree_centrality.items():\n",
    "#    print(f\"User: {user}, Degree Centrality: {centrality}\")\n",
    "\n",
    "# Print communities\n",
    "#for user, community_id in communities.items():\n",
    "#    print(f\"User: {user}, Community ID: {community_id}\")"
   ]
  },
  {
   "cell_type": "markdown",
   "id": "8b054955",
   "metadata": {
    "heading_collapsed": true
   },
   "source": [
    "## Data analysis"
   ]
  },
  {
   "cell_type": "code",
   "execution_count": 35,
   "id": "b76ed15d",
   "metadata": {
    "hidden": true
   },
   "outputs": [
    {
     "name": "stdout",
     "output_type": "stream",
     "text": [
      "Requirement already satisfied: nltk in /Users/zahra/opt/anaconda3/lib/python3.9/site-packages (3.7)\r\n",
      "Requirement already satisfied: click in /Users/zahra/opt/anaconda3/lib/python3.9/site-packages (from nltk) (8.0.4)\r\n",
      "Requirement already satisfied: joblib in /Users/zahra/opt/anaconda3/lib/python3.9/site-packages (from nltk) (1.1.1)\r\n",
      "Requirement already satisfied: regex>=2021.8.3 in /Users/zahra/opt/anaconda3/lib/python3.9/site-packages (from nltk) (2022.7.9)\r\n",
      "Requirement already satisfied: tqdm in /Users/zahra/opt/anaconda3/lib/python3.9/site-packages (from nltk) (4.64.1)\r\n"
     ]
    }
   ],
   "source": [
    "!pip install nltk"
   ]
  },
  {
   "cell_type": "code",
   "execution_count": 37,
   "id": "e9652562",
   "metadata": {
    "hidden": true
   },
   "outputs": [
    {
     "data": {
      "text/html": [
       "<div>\n",
       "<style scoped>\n",
       "    .dataframe tbody tr th:only-of-type {\n",
       "        vertical-align: middle;\n",
       "    }\n",
       "\n",
       "    .dataframe tbody tr th {\n",
       "        vertical-align: top;\n",
       "    }\n",
       "\n",
       "    .dataframe thead th {\n",
       "        text-align: right;\n",
       "    }\n",
       "</style>\n",
       "<table border=\"1\" class=\"dataframe\">\n",
       "  <thead>\n",
       "    <tr style=\"text-align: right;\">\n",
       "      <th></th>\n",
       "      <th>Text</th>\n",
       "      <th>Sentiment</th>\n",
       "      <th>Sentiment_Scores</th>\n",
       "    </tr>\n",
       "  </thead>\n",
       "  <tbody>\n",
       "    <tr>\n",
       "      <th>0</th>\n",
       "      <td>I'm glad serious researchers are taking up thi...</td>\n",
       "      <td>Positive</td>\n",
       "      <td>{'neg': 0.035, 'neu': 0.733, 'pos': 0.232, 'co...</td>\n",
       "    </tr>\n",
       "    <tr>\n",
       "      <th>1</th>\n",
       "      <td>1. Partisan adhesion in Canada is weak and par...</td>\n",
       "      <td>Negative</td>\n",
       "      <td>{'neg': 0.137, 'neu': 0.776, 'pos': 0.087, 'co...</td>\n",
       "    </tr>\n",
       "    <tr>\n",
       "      <th>2</th>\n",
       "      <td>Minister Ayers, what are you doing to assist t...</td>\n",
       "      <td>Positive</td>\n",
       "      <td>{'neg': 0.027, 'neu': 0.853, 'pos': 0.12, 'com...</td>\n",
       "    </tr>\n",
       "    <tr>\n",
       "      <th>3</th>\n",
       "      <td>I want cable news to cover the child poverty r...</td>\n",
       "      <td>Negative</td>\n",
       "      <td>{'neg': 0.218, 'neu': 0.704, 'pos': 0.079, 'co...</td>\n",
       "    </tr>\n",
       "    <tr>\n",
       "      <th>4</th>\n",
       "      <td>\"If we don't adapt the internet to the reality...</td>\n",
       "      <td>Negative</td>\n",
       "      <td>{'neg': 0.049, 'neu': 0.907, 'pos': 0.044, 'co...</td>\n",
       "    </tr>\n",
       "  </tbody>\n",
       "</table>\n",
       "</div>"
      ],
      "text/plain": [
       "                                                Text Sentiment  \\\n",
       "0  I'm glad serious researchers are taking up thi...  Positive   \n",
       "1  1. Partisan adhesion in Canada is weak and par...  Negative   \n",
       "2  Minister Ayers, what are you doing to assist t...  Positive   \n",
       "3  I want cable news to cover the child poverty r...  Negative   \n",
       "4  \"If we don't adapt the internet to the reality...  Negative   \n",
       "\n",
       "                                    Sentiment_Scores  \n",
       "0  {'neg': 0.035, 'neu': 0.733, 'pos': 0.232, 'co...  \n",
       "1  {'neg': 0.137, 'neu': 0.776, 'pos': 0.087, 'co...  \n",
       "2  {'neg': 0.027, 'neu': 0.853, 'pos': 0.12, 'com...  \n",
       "3  {'neg': 0.218, 'neu': 0.704, 'pos': 0.079, 'co...  \n",
       "4  {'neg': 0.049, 'neu': 0.907, 'pos': 0.044, 'co...  "
      ]
     },
     "execution_count": 37,
     "metadata": {},
     "output_type": "execute_result"
    }
   ],
   "source": [
    "# Sentiment Analysis:\n",
    "\n",
    "import nltk\n",
    "from nltk.sentiment.vader import SentimentIntensityAnalyzer\n",
    "\n",
    "# Function for sentiment analysis\n",
    "def perform_sentiment_analysis(text):\n",
    "    # Initialize the sentiment analyzer\n",
    "    sia = SentimentIntensityAnalyzer()\n",
    "\n",
    "    # Get sentiment scores for the text\n",
    "    sentiment_scores = sia.polarity_scores(text)\n",
    "\n",
    "    # Determine sentiment based on compound score\n",
    "    if sentiment_scores['compound'] >= 0.05:\n",
    "        sentiment = 'Positive'\n",
    "    elif sentiment_scores['compound'] <= -0.05:\n",
    "        sentiment = 'Negative'\n",
    "    else:\n",
    "        sentiment = 'Neutral'\n",
    "\n",
    "    return sentiment, sentiment_scores\n",
    "\n",
    "# Apply sentiment analysis to the 'Text' column in tweets_df\n",
    "tweets_df['Sentiment'], tweets_df['Sentiment_Scores'] = zip(*tweets_df['Text'].apply(perform_sentiment_analysis))\n",
    "\n",
    "# Display the first few rows of the DataFrame with sentiment analysis results\n",
    "tweets_df[['Text', 'Sentiment', 'Sentiment_Scores']].head()"
   ]
  },
  {
   "cell_type": "code",
   "execution_count": 38,
   "id": "7f54104c",
   "metadata": {
    "hidden": true
   },
   "outputs": [
    {
     "name": "stdout",
     "output_type": "stream",
     "text": [
      "Requirement already satisfied: gensim in /Users/zahra/opt/anaconda3/lib/python3.9/site-packages (4.3.0)\n",
      "Requirement already satisfied: numpy>=1.18.5 in /Users/zahra/opt/anaconda3/lib/python3.9/site-packages (from gensim) (1.21.5)\n",
      "Requirement already satisfied: scipy>=1.7.0 in /Users/zahra/opt/anaconda3/lib/python3.9/site-packages (from gensim) (1.10.0)\n",
      "Requirement already satisfied: smart-open>=1.8.1 in /Users/zahra/opt/anaconda3/lib/python3.9/site-packages (from gensim) (5.2.1)\n",
      "Collecting FuzzyTM>=0.4.0 (from gensim)\n",
      "  Downloading FuzzyTM-2.0.5-py3-none-any.whl (29 kB)\n",
      "Requirement already satisfied: pandas in /Users/zahra/opt/anaconda3/lib/python3.9/site-packages (from FuzzyTM>=0.4.0->gensim) (1.4.4)\n",
      "Collecting pyfume (from FuzzyTM>=0.4.0->gensim)\n",
      "  Downloading pyFUME-0.2.25-py3-none-any.whl (67 kB)\n",
      "\u001b[2K     \u001b[90m━━━━━━━━━━━━━━━━━━━━━━━━━━━━━━━━━━━━━━━━\u001b[0m \u001b[32m67.1/67.1 kB\u001b[0m \u001b[31m2.2 MB/s\u001b[0m eta \u001b[36m0:00:00\u001b[0m\n",
      "\u001b[?25hRequirement already satisfied: python-dateutil>=2.8.1 in /Users/zahra/opt/anaconda3/lib/python3.9/site-packages (from pandas->FuzzyTM>=0.4.0->gensim) (2.8.2)\n",
      "Requirement already satisfied: pytz>=2020.1 in /Users/zahra/opt/anaconda3/lib/python3.9/site-packages (from pandas->FuzzyTM>=0.4.0->gensim) (2022.7)\n",
      "Collecting simpful (from pyfume->FuzzyTM>=0.4.0->gensim)\n",
      "  Downloading simpful-2.11.0-py3-none-any.whl (32 kB)\n",
      "Collecting fst-pso (from pyfume->FuzzyTM>=0.4.0->gensim)\n",
      "  Downloading fst-pso-1.8.1.tar.gz (18 kB)\n",
      "  Preparing metadata (setup.py) ... \u001b[?25ldone\n",
      "\u001b[?25hRequirement already satisfied: six>=1.5 in /Users/zahra/opt/anaconda3/lib/python3.9/site-packages (from python-dateutil>=2.8.1->pandas->FuzzyTM>=0.4.0->gensim) (1.16.0)\n",
      "Collecting miniful (from fst-pso->pyfume->FuzzyTM>=0.4.0->gensim)\n",
      "  Downloading miniful-0.0.6.tar.gz (2.8 kB)\n",
      "  Preparing metadata (setup.py) ... \u001b[?25ldone\n",
      "\u001b[?25hBuilding wheels for collected packages: fst-pso, miniful\n",
      "  Building wheel for fst-pso (setup.py) ... \u001b[?25ldone\n",
      "\u001b[?25h  Created wheel for fst-pso: filename=fst_pso-1.8.1-py3-none-any.whl size=20430 sha256=4a6a107f7fe837ebc1d1864aba865c9811a2eaee856dba22a86036844434f7e2\n",
      "  Stored in directory: /Users/zahra/Library/Caches/pip/wheels/99/66/48/d7ce0c6927f6abf167bbcdee537affc7b92c03632f78028411\n",
      "  Building wheel for miniful (setup.py) ... \u001b[?25ldone\n",
      "\u001b[?25h  Created wheel for miniful: filename=miniful-0.0.6-py3-none-any.whl size=3513 sha256=17bde3630c1763de44dc8efb7dc86f61acea7ecbd4acf3f7b1b3056508f3fe91\n",
      "  Stored in directory: /Users/zahra/Library/Caches/pip/wheels/d9/c7/71/db1d4646d963b34c530667501d3d6f34c0825eaffae2f0f2cb\n",
      "Successfully built fst-pso miniful\n",
      "Installing collected packages: simpful, miniful, fst-pso, pyfume, FuzzyTM\n",
      "Successfully installed FuzzyTM-2.0.5 fst-pso-1.8.1 miniful-0.0.6 pyfume-0.2.25 simpful-2.11.0\n"
     ]
    }
   ],
   "source": [
    "!pip install gensim"
   ]
  },
  {
   "cell_type": "code",
   "execution_count": 39,
   "id": "c8f00d53",
   "metadata": {
    "hidden": true
   },
   "outputs": [
    {
     "name": "stdout",
     "output_type": "stream",
     "text": [
      "(0, '0.002*\"#climatechange\" + 0.002*\"#crypto\" + 0.002*\"#amd\" + 0.002*\"#ClimateChange\" + 0.001*\"?Ã\\x83Â\\x83Ã\\x82Â\\x83Ã\\x83Â\\x82Ã\\x82Â\\x83Ã\\x83Â\\x83Ã\\x82Â\\x82Ã\\x83Â\\x82Ã\\x82Â\\x83Ã\\x83Â\\x83Ã\\x82Â\\x83Ã\\x83Â\\x82Ã\\x82Â\\x82Ã\\x83Â\\x83Ã\\x82Â\\x82Ã\\x83Â\\x82Ã\\x82Â\\x99Ã\\x83Â\\x83Ã\\x82Â\\x83Ã\\x83Â\\x82Ã\\x82Â\\x83Ã\\x83Â\\x83Ã\\x82Â\\x82Ã\\x83Â\\x82Ã\\x82Â\\x83Ã\\x83Â\\x83Ã\\x82Â\\x83Ã\\x83Â\\x82Ã\\x82Â\\x82Ã\\x83Â\\x83Ã\\x82Â\\x82Ã\\x83Â\\x82Ã\\x82Â\"')\n",
      "(1, '0.016*\"to\" + 0.011*\"help\" + 0.011*\"by\" + 0.010*\"fair\" + 0.009*\"into\"')\n",
      "(2, '0.019*\"the\" + 0.017*\"of\" + 0.015*\"and\" + 0.014*\"Climate\" + 0.012*\"in\"')\n",
      "(3, '0.010*\"#ClimateChange\" + 0.008*\"#climatechange\" + 0.006*\"CLIMATE\" + 0.004*\"CHANGE\" + 0.003*\"THE\"')\n",
      "(4, '0.037*\"the\" + 0.034*\"to\" + 0.024*\"climate\" + 0.022*\"and\" + 0.020*\"of\"')\n",
      "[(0,\n",
      "  '0.002*\"#climatechange\" + 0.002*\"#crypto\" + 0.002*\"#amd\" + '\n",
      "  '0.002*\"#ClimateChange\" + '\n",
      "  '0.001*\"?Ã\\x83Â\\x83Ã\\x82Â\\x83Ã\\x83Â\\x82Ã\\x82Â\\x83Ã\\x83Â\\x83Ã\\x82Â\\x82Ã\\x83Â\\x82Ã\\x82Â\\x83Ã\\x83Â\\x83Ã\\x82Â\\x83Ã\\x83Â\\x82Ã\\x82Â\\x82Ã\\x83Â\\x83Ã\\x82Â\\x82Ã\\x83Â\\x82Ã\\x82Â\\x99Ã\\x83Â\\x83Ã\\x82Â\\x83Ã\\x83Â\\x82Ã\\x82Â\\x83Ã\\x83Â\\x83Ã\\x82Â\\x82Ã\\x83Â\\x82Ã\\x82Â\\x83Ã\\x83Â\\x83Ã\\x82Â\\x83Ã\\x83Â\\x82Ã\\x82Â\\x82Ã\\x83Â\\x83Ã\\x82Â\\x82Ã\\x83Â\\x82Ã\\x82Â\" '\n",
      "  '+ 0.001*\"Herschel\" + 0.001*\"#food\" + 0.001*\"#nature\" + 0.001*\"#jobs\" + '\n",
      "  '0.001*\"#travel\"'),\n",
      " (1,\n",
      "  '0.016*\"to\" + 0.011*\"help\" + 0.011*\"by\" + 0.010*\"fair\" + 0.009*\"into\" + '\n",
      "  '0.009*\"#LossAndDamage\" + 0.009*\"share\" + 0.009*\"its\" + 0.008*\"paying\" + '\n",
      "  '0.008*\"those\"'),\n",
      " (2,\n",
      "  '0.019*\"the\" + 0.017*\"of\" + 0.015*\"and\" + 0.014*\"Climate\" + 0.012*\"in\" + '\n",
      "  '0.009*\"on\" + 0.008*\"Change\" + 0.006*\"#climatechange\" + 0.006*\"The\" + '\n",
      "  '0.006*\"to\"'),\n",
      " (3,\n",
      "  '0.010*\"#ClimateChange\" + 0.008*\"#climatechange\" + 0.006*\"CLIMATE\" + '\n",
      "  '0.004*\"CHANGE\" + 0.003*\"THE\" + 0.003*\"#gloabalwarming\" + 0.003*\"#COP28UAE\" '\n",
      "  '+ 0.002*\"@COP28_UAE\" + 0.002*\"TO\" + 0.002*\"#TodayforTomorrow\"'),\n",
      " (4,\n",
      "  '0.037*\"the\" + 0.034*\"to\" + 0.024*\"climate\" + 0.022*\"and\" + 0.020*\"of\" + '\n",
      "  '0.016*\"a\" + 0.015*\"change\" + 0.015*\"is\" + 0.013*\"in\" + 0.009*\"for\"')]\n"
     ]
    }
   ],
   "source": [
    "# Topic Modeling:\n",
    "\n",
    "import gensim\n",
    "from gensim import corpora\n",
    "from pprint import pprint\n",
    "\n",
    "# Function for topic modeling using LDA\n",
    "def perform_topic_modeling(texts, num_topics=5):\n",
    "    # Tokenize the text and create a dictionary and corpus\n",
    "    texts = [text.split() for text in texts]\n",
    "    dictionary = corpora.Dictionary(texts)\n",
    "    corpus = [dictionary.doc2bow(text) for text in texts]\n",
    "\n",
    "    # Create the LDA model\n",
    "    lda_model = gensim.models.LdaModel(corpus, num_topics=num_topics, id2word=dictionary, passes=15)\n",
    "\n",
    "    # Print the topics and their keywords\n",
    "    topics = lda_model.print_topics(num_words=5)\n",
    "    for topic in topics:\n",
    "        print(topic)\n",
    "\n",
    "    return lda_model\n",
    "\n",
    "# Extract the 'Text' column from tweets_df\n",
    "tweet_texts = tweets_df['Text'].tolist()\n",
    "\n",
    "# Perform topic modeling with 5 topics\n",
    "lda_model = perform_topic_modeling(tweet_texts, num_topics=5)\n",
    "\n",
    "# Display the topics and their keywords\n",
    "pprint(lda_model.print_topics())"
   ]
  },
  {
   "cell_type": "code",
   "execution_count": 40,
   "id": "35290a20",
   "metadata": {
    "hidden": true
   },
   "outputs": [
    {
     "name": "stdout",
     "output_type": "stream",
     "text": [
      "Requirement already satisfied: pandas in /Users/zahra/opt/anaconda3/lib/python3.9/site-packages (1.4.4)\n",
      "Requirement already satisfied: matplotlib in /Users/zahra/opt/anaconda3/lib/python3.9/site-packages (3.5.2)\n",
      "Requirement already satisfied: python-dateutil>=2.8.1 in /Users/zahra/opt/anaconda3/lib/python3.9/site-packages (from pandas) (2.8.2)\n",
      "Requirement already satisfied: pytz>=2020.1 in /Users/zahra/opt/anaconda3/lib/python3.9/site-packages (from pandas) (2022.7)\n",
      "Requirement already satisfied: numpy>=1.18.5 in /Users/zahra/opt/anaconda3/lib/python3.9/site-packages (from pandas) (1.21.5)\n",
      "Requirement already satisfied: cycler>=0.10 in /Users/zahra/opt/anaconda3/lib/python3.9/site-packages (from matplotlib) (0.11.0)\n",
      "Requirement already satisfied: fonttools>=4.22.0 in /Users/zahra/opt/anaconda3/lib/python3.9/site-packages (from matplotlib) (4.25.0)\n",
      "Requirement already satisfied: kiwisolver>=1.0.1 in /Users/zahra/opt/anaconda3/lib/python3.9/site-packages (from matplotlib) (1.4.4)\n",
      "Requirement already satisfied: packaging>=20.0 in /Users/zahra/opt/anaconda3/lib/python3.9/site-packages (from matplotlib) (23.0)\n",
      "Requirement already satisfied: pillow>=6.2.0 in /Users/zahra/opt/anaconda3/lib/python3.9/site-packages (from matplotlib) (9.4.0)\n",
      "Requirement already satisfied: pyparsing>=2.2.1 in /Users/zahra/opt/anaconda3/lib/python3.9/site-packages (from matplotlib) (3.0.9)\n",
      "Requirement already satisfied: six>=1.5 in /Users/zahra/opt/anaconda3/lib/python3.9/site-packages (from python-dateutil>=2.8.1->pandas) (1.16.0)\n"
     ]
    }
   ],
   "source": [
    "!pip install pandas matplotlib"
   ]
  },
  {
   "cell_type": "code",
   "execution_count": 43,
   "id": "e666d84e",
   "metadata": {
    "hidden": true
   },
   "outputs": [
    {
     "data": {
      "image/png": "[encoded data removed]",
      "text/plain": [
       "<Figure size 1200x600 with 1 Axes>"
      ]
     },
     "metadata": {},
     "output_type": "display_data"
    },
    {
     "name": "stdout",
     "output_type": "stream",
     "text": [
      "           Date  TweetCount\n",
      "0    2017-06-02           1\n",
      "1    2017-07-09           1\n",
      "2    2017-07-13           3\n",
      "3    2017-07-18           1\n",
      "4    2017-07-25           1\n",
      "..          ...         ...\n",
      "557  2023-11-08          20\n",
      "558  2023-11-09          21\n",
      "559  2023-11-10         105\n",
      "560  2023-11-11         440\n",
      "561  2023-11-12         543\n",
      "\n",
      "[562 rows x 2 columns]\n"
     ]
    }
   ],
   "source": [
    "import pandas as pd\n",
    "import matplotlib.pyplot as plt\n",
    "\n",
    "# Function for temporal analysis\n",
    "def perform_temporal_analysis(df):\n",
    "    # Convert the 'Time' column to datetime format\n",
    "    df['Time'] = pd.to_datetime(df['Time'])\n",
    "    \n",
    "    # Extract date and time components\n",
    "    df['Date'] = df['Time'].dt.date\n",
    "    \n",
    "    # Group tweets by date and count the number of tweets per day\n",
    "    daily_tweet_counts = df.groupby('Date').size().reset_index(name='TweetCount')\n",
    "    \n",
    "    # Plot the daily tweet counts over time\n",
    "    plt.figure(figsize=(12, 6))\n",
    "    plt.plot(daily_tweet_counts['Date'], daily_tweet_counts['TweetCount'], marker='o', linestyle='-')\n",
    "    plt.title('Daily Tweet Counts Over Time')\n",
    "    plt.xlabel('Date')\n",
    "    plt.ylabel('Tweet Count')\n",
    "    plt.grid(True)\n",
    "    plt.xticks(rotation=45)\n",
    "    plt.tight_layout()\n",
    "    plt.show()\n",
    "\n",
    "    return daily_tweet_counts\n",
    "\n",
    "# Perform temporal analysis on tweets_df using the 'Time' column\n",
    "temporal_data = perform_temporal_analysis(tweets_df)\n",
    "\n",
    "# Display the daily tweet counts over time\n",
    "print(temporal_data)"
   ]
  },
  {
   "cell_type": "markdown",
   "id": "9f05365c",
   "metadata": {
    "hidden": true
   },
   "source": [
    "We have the daily tweet counts over time. The results show a breakdown of the number of tweets per day from June 2, 2017, to November 12, 2023."
   ]
  },
  {
   "cell_type": "code",
   "execution_count": 44,
   "id": "df220a2c",
   "metadata": {
    "hidden": true,
    "scrolled": true
   },
   "outputs": [
    {
     "data": {
      "image/png": "[encoded data removed]",
      "text/plain": [
       "<Figure size 800x600 with 1 Axes>"
      ]
     },
     "metadata": {},
     "output_type": "display_data"
    },
    {
     "name": "stdout",
     "output_type": "stream",
     "text": [
      "                                                Text Sentiment_Label\n",
      "0  I'm glad serious researchers are taking up thi...        Positive\n",
      "1  1. Partisan adhesion in Canada is weak and par...        Negative\n",
      "2  Minister Ayers, what are you doing to assist t...        Positive\n",
      "3  I want cable news to cover the child poverty r...        Negative\n",
      "4  \"If we don't adapt the internet to the reality...        Negative\n"
     ]
    }
   ],
   "source": [
    "# Domain Knowledge\n",
    "\n",
    "import pandas as pd\n",
    "import matplotlib.pyplot as plt\n",
    "from nltk.sentiment.vader import SentimentIntensityAnalyzer\n",
    "\n",
    "# Function for sentiment analysis\n",
    "def perform_sentiment_analysis(df):\n",
    "    # Initialize the sentiment analyzer\n",
    "    sia = SentimentIntensityAnalyzer()\n",
    "\n",
    "    # Apply sentiment analysis to each tweet and store the results in a new column\n",
    "    df['Sentiment_Scores'] = df['Text'].apply(lambda x: sia.polarity_scores(x))\n",
    "\n",
    "    # Extract the compound sentiment score from the results\n",
    "    df['Compound_Score'] = df['Sentiment_Scores'].apply(lambda x: x['compound'])\n",
    "\n",
    "    # Categorize sentiment based on the compound score\n",
    "    df['Sentiment_Label'] = df['Compound_Score'].apply(lambda x: 'Positive' if x >= 0.05 else ('Negative' if x <= -0.05 else 'Neutral'))\n",
    "\n",
    "    return df\n",
    "\n",
    "# Perform sentiment analysis on tweets_df\n",
    "tweets_df = perform_sentiment_analysis(tweets_df)\n",
    "\n",
    "# Visualize the sentiment distribution\n",
    "sentiment_counts = tweets_df['Sentiment_Label'].value_counts()\n",
    "plt.figure(figsize=(8, 6))\n",
    "sentiment_counts.plot(kind='bar', color=['green', 'red', 'blue'])\n",
    "plt.title('Sentiment Distribution of Climate Change Tweets')\n",
    "plt.xlabel('Sentiment Label')\n",
    "plt.ylabel('Tweet Count')\n",
    "plt.xticks(rotation=0)\n",
    "plt.tight_layout()\n",
    "plt.show()\n",
    "\n",
    "# Display the first few rows of the DataFrame with sentiment analysis results\n",
    "print(tweets_df[['Text', 'Sentiment_Label']].head())"
   ]
  },
  {
   "cell_type": "code",
   "execution_count": null,
   "id": "e67a5204",
   "metadata": {
    "hidden": true
   },
   "outputs": [],
   "source": [
    "# Visualization:\n"
   ]
  },
  {
   "cell_type": "code",
   "execution_count": null,
   "id": "a0a9fe52",
   "metadata": {
    "hidden": true
   },
   "outputs": [],
   "source": [
    "# Statistical Methods:"
   ]
  },
  {
   "cell_type": "code",
   "execution_count": null,
   "id": "6067579a",
   "metadata": {
    "hidden": true
   },
   "outputs": [],
   "source": [
    "# Impact on Decision-Making: "
   ]
  },
  {
   "cell_type": "markdown",
   "id": "0cb54b1c",
   "metadata": {},
   "source": [
    "# re structure it:"
   ]
  },
  {
   "cell_type": "markdown",
   "id": "f01657f2",
   "metadata": {
    "heading_collapsed": true
   },
   "source": [
    "## Downloading dataset"
   ]
  },
  {
   "cell_type": "code",
   "execution_count": 1,
   "id": "ea2f5cdb",
   "metadata": {
    "hidden": true
   },
   "outputs": [],
   "source": [
    "import pandas as pd\n",
    "\n",
    "file_path = 'Tweets_with_location.csv'\n",
    "try:\n",
    "    tweets_df = pd.read_csv(file_path, encoding='ISO-8859-1')\n",
    "except UnicodeDecodeError as e:\n",
    "    print(f\"Error loading file: {e}\")"
   ]
  },
  {
   "cell_type": "code",
   "execution_count": 2,
   "id": "1ea0731b",
   "metadata": {
    "hidden": true
   },
   "outputs": [
    {
     "data": {
      "text/html": [
       "<div>\n",
       "<style scoped>\n",
       "    .dataframe tbody tr th:only-of-type {\n",
       "        vertical-align: middle;\n",
       "    }\n",
       "\n",
       "    .dataframe tbody tr th {\n",
       "        vertical-align: top;\n",
       "    }\n",
       "\n",
       "    .dataframe thead th {\n",
       "        text-align: right;\n",
       "    }\n",
       "</style>\n",
       "<table border=\"1\" class=\"dataframe\">\n",
       "  <thead>\n",
       "    <tr style=\"text-align: right;\">\n",
       "      <th></th>\n",
       "      <th>Name</th>\n",
       "      <th>UserName</th>\n",
       "      <th>Time</th>\n",
       "      <th>Text</th>\n",
       "      <th>Likes</th>\n",
       "      <th>Retweets</th>\n",
       "      <th>TweetURL</th>\n",
       "      <th>UserURL</th>\n",
       "      <th>City</th>\n",
       "      <th>Country</th>\n",
       "      <th>Unnamed: 10</th>\n",
       "      <th>Unnamed: 11</th>\n",
       "    </tr>\n",
       "  </thead>\n",
       "  <tbody>\n",
       "    <tr>\n",
       "      <th>0</th>\n",
       "      <td>Gerald Butts</td>\n",
       "      <td>gmbutts</td>\n",
       "      <td>1/24/2022 22:24</td>\n",
       "      <td>I'm glad serious researchers are taking up thi...</td>\n",
       "      <td>17.0</td>\n",
       "      <td>50.0</td>\n",
       "      <td>https://twitter.com/gmbutts/status/14857402380...</td>\n",
       "      <td>https://twitter.com/gmbutts</td>\n",
       "      <td>0</td>\n",
       "      <td>0</td>\n",
       "      <td>NaN</td>\n",
       "      <td>NaN</td>\n",
       "    </tr>\n",
       "    <tr>\n",
       "      <th>1</th>\n",
       "      <td>Gerald Butts</td>\n",
       "      <td>gmbutts</td>\n",
       "      <td>1/24/2022 22:27</td>\n",
       "      <td>1. Partisan adhesion in Canada is weak and par...</td>\n",
       "      <td>2.0</td>\n",
       "      <td>31.0</td>\n",
       "      <td>https://twitter.com/gmbutts/status/14857409939...</td>\n",
       "      <td>https://twitter.com/gmbutts</td>\n",
       "      <td>0</td>\n",
       "      <td>0</td>\n",
       "      <td>NaN</td>\n",
       "      <td>NaN</td>\n",
       "    </tr>\n",
       "    <tr>\n",
       "      <th>2</th>\n",
       "      <td>Abigail Boyd</td>\n",
       "      <td>AbigailBoydMLC</td>\n",
       "      <td>3/7/2022 23:46</td>\n",
       "      <td>Minister Ayers, what are you doing to assist t...</td>\n",
       "      <td>8.0</td>\n",
       "      <td>12.0</td>\n",
       "      <td>https://twitter.com/AbigailBoydMLC/status/1500...</td>\n",
       "      <td>https://twitter.com/AbigailBoydMLC</td>\n",
       "      <td>0</td>\n",
       "      <td>0</td>\n",
       "      <td>NaN</td>\n",
       "      <td>NaN</td>\n",
       "    </tr>\n",
       "    <tr>\n",
       "      <th>3</th>\n",
       "      <td>Warren Gunnels</td>\n",
       "      <td>GunnelsWarren</td>\n",
       "      <td>2/22/2022 23:49</td>\n",
       "      <td>I want cable news to cover the child poverty r...</td>\n",
       "      <td>5418.0</td>\n",
       "      <td>203000.0</td>\n",
       "      <td>https://twitter.com/GunnelsWarren/status/14962...</td>\n",
       "      <td>https://twitter.com/GunnelsWarren</td>\n",
       "      <td>0</td>\n",
       "      <td>0</td>\n",
       "      <td>NaN</td>\n",
       "      <td>NaN</td>\n",
       "    </tr>\n",
       "    <tr>\n",
       "      <th>4</th>\n",
       "      <td>Scalawag</td>\n",
       "      <td>scalawagmag</td>\n",
       "      <td>3/21/2022 21:45</td>\n",
       "      <td>\"If we don't adapt the internet to the reality...</td>\n",
       "      <td>1.0</td>\n",
       "      <td>9.0</td>\n",
       "      <td>https://twitter.com/scalawagmag/status/1506024...</td>\n",
       "      <td>https://twitter.com/scalawagmag</td>\n",
       "      <td>0</td>\n",
       "      <td>0</td>\n",
       "      <td>NaN</td>\n",
       "      <td>NaN</td>\n",
       "    </tr>\n",
       "  </tbody>\n",
       "</table>\n",
       "</div>"
      ],
      "text/plain": [
       "             Name        UserName             Time  \\\n",
       "0    Gerald Butts         gmbutts  1/24/2022 22:24   \n",
       "1    Gerald Butts         gmbutts  1/24/2022 22:27   \n",
       "2    Abigail Boyd  AbigailBoydMLC   3/7/2022 23:46   \n",
       "3  Warren Gunnels   GunnelsWarren  2/22/2022 23:49   \n",
       "4        Scalawag     scalawagmag  3/21/2022 21:45   \n",
       "\n",
       "                                                Text   Likes  Retweets  \\\n",
       "0  I'm glad serious researchers are taking up thi...    17.0      50.0   \n",
       "1  1. Partisan adhesion in Canada is weak and par...     2.0      31.0   \n",
       "2  Minister Ayers, what are you doing to assist t...     8.0      12.0   \n",
       "3  I want cable news to cover the child poverty r...  5418.0  203000.0   \n",
       "4  \"If we don't adapt the internet to the reality...     1.0       9.0   \n",
       "\n",
       "                                            TweetURL  \\\n",
       "0  https://twitter.com/gmbutts/status/14857402380...   \n",
       "1  https://twitter.com/gmbutts/status/14857409939...   \n",
       "2  https://twitter.com/AbigailBoydMLC/status/1500...   \n",
       "3  https://twitter.com/GunnelsWarren/status/14962...   \n",
       "4  https://twitter.com/scalawagmag/status/1506024...   \n",
       "\n",
       "                              UserURL City Country  Unnamed: 10  Unnamed: 11  \n",
       "0         https://twitter.com/gmbutts    0       0          NaN          NaN  \n",
       "1         https://twitter.com/gmbutts    0       0          NaN          NaN  \n",
       "2  https://twitter.com/AbigailBoydMLC    0       0          NaN          NaN  \n",
       "3   https://twitter.com/GunnelsWarren    0       0          NaN          NaN  \n",
       "4     https://twitter.com/scalawagmag    0       0          NaN          NaN  "
      ]
     },
     "execution_count": 2,
     "metadata": {},
     "output_type": "execute_result"
    }
   ],
   "source": [
    "# Display the first few rows of the dataframe for an initial assessment\n",
    "tweets_df.head()"
   ]
  },
  {
   "cell_type": "markdown",
   "id": "b26b365b",
   "metadata": {
    "heading_collapsed": true
   },
   "source": [
    "## Enhanced Text Cleaning Function"
   ]
  },
  {
   "cell_type": "code",
   "execution_count": 6,
   "id": "4589f25a",
   "metadata": {
    "hidden": true
   },
   "outputs": [
    {
     "name": "stdout",
     "output_type": "stream",
     "text": [
      "                                                Text  \\\n",
      "0  I'm glad serious researchers are taking up thi...   \n",
      "1  1. Partisan adhesion in Canada is weak and par...   \n",
      "2  Minister Ayers, what are you doing to assist t...   \n",
      "3  I want cable news to cover the child poverty r...   \n",
      "4  \"If we don't adapt the internet to the reality...   \n",
      "\n",
      "                                        Cleaned_Text  \n",
      "0  im glad serious researchers taking issue concl...  \n",
      "1  partisan adhesion canada weak partly determine...  \n",
      "2  minister ayers assist people western sydney co...  \n",
      "3  want cable news cover child poverty rate ameri...  \n",
      "4  dont adapt internet reality climate change wel...  \n"
     ]
    }
   ],
   "source": [
    "import re\n",
    "from nltk.corpus import stopwords\n",
    "from nltk.tokenize import word_tokenize\n",
    "import nltk\n",
    "\n",
    "def clean_text(df):\n",
    "    stop_words = set(stopwords.words('english'))\n",
    "\n",
    "    def clean_individual_text(text):\n",
    "        # Convert non-string data to string\n",
    "        if not isinstance(text, str):\n",
    "            text = str(text)\n",
    "\n",
    "        # Lowercase the text\n",
    "        text = text.lower()\n",
    "        # Remove URLs\n",
    "        text = re.sub(r'http\\S+', '', text)\n",
    "        # Remove special characters and numbers\n",
    "        text = re.sub(r'[^a-zA-Z\\s]', '', text)\n",
    "        # Tokenization and removing stopwords\n",
    "        tokens = word_tokenize(text)\n",
    "        filtered_text = ' '.join([word for word in tokens if word not in stop_words])\n",
    "        return filtered_text\n",
    "\n",
    "    df['Cleaned_Text'] = df['Text'].apply(clean_individual_text)\n",
    "    return df\n",
    "\n",
    "tweets_df = clean_text(tweets_df)\n",
    "\n",
    "#print(tweets_df.head())\n",
    "print(tweets_df[['Text', 'Cleaned_Text']].head())"
   ]
  },
  {
   "cell_type": "markdown",
   "id": "790a98d3",
   "metadata": {},
   "source": [
    "## Outlier Analysis Function"
   ]
  },
  {
   "cell_type": "code",
   "execution_count": 10,
   "id": "de451b29",
   "metadata": {},
   "outputs": [],
   "source": [
    "def outlier_analysis(df, column_name):\n",
    "    Q1 = df[column_name].quantile(0.25)\n",
    "    Q3 = df[column_name].quantile(0.75)\n",
    "    IQR = Q3 - Q1\n",
    "    lower_bound = Q1 - 1.5 * IQR\n",
    "    upper_bound = Q3 + 1.5 * IQR\n",
    "\n",
    "    # Filter out the outliers\n",
    "    df_filtered = df[(df[column_name] >= lower_bound) & (df[column_name] <= upper_bound)]\n",
    "    return df_filtered\n",
    "\n",
    "tweets_df = outlier_analysis(tweets_df, 'Likes')\n",
    "#print(tweets_df.head())"
   ]
  },
  {
   "cell_type": "markdown",
   "id": "85fdc1bd",
   "metadata": {},
   "source": [
    "## Network Analysis Functions"
   ]
  },
  {
   "cell_type": "code",
   "execution_count": 22,
   "id": "a8d65e0f",
   "metadata": {},
   "outputs": [
    {
     "name": "stdout",
     "output_type": "stream",
     "text": [
      "User: gmbutts, Degree Centrality: 0.004531477585369801\n",
      "User: AbigailBoydMLC, Degree Centrality: 0.005340670011328694\n",
      "User: scalawagmag, Degree Centrality: 0.009872147596698496\n",
      "User: NidaAllam, Degree Centrality: 0.005502508496520473\n",
      "User: Womens_Forum, Degree Centrality: 0.0003236769703835572\n"
     ]
    }
   ],
   "source": [
    "import networkx as nx\n",
    "\n",
    "def create_simple_user_network(df):\n",
    "    G = nx.Graph()\n",
    "\n",
    "    # Add each user as a node\n",
    "    for user in df['UserName'].unique():\n",
    "        G.add_node(user)\n",
    "\n",
    "    # Example of adding edges: connecting users who tweeted on the same day\n",
    "    for date in df['Time'].dt.date.unique():\n",
    "        users_on_date = df[df['Time'].dt.date == date]['UserName'].unique()\n",
    "        for user1 in users_on_date:\n",
    "            for user2 in users_on_date:\n",
    "                if user1 != user2:\n",
    "                    G.add_edge(user1, user2)\n",
    "\n",
    "    return G\n",
    "\n",
    "tweets_df['Time'] = pd.to_datetime(tweets_df['Time'])\n",
    "\n",
    "# Create the network\n",
    "twitter_network = create_simple_user_network(tweets_df)\n",
    "\n",
    "#print(\"Number of nodes (users):\", twitter_network.number_of_nodes())\n",
    "#print(\"Number of edges (connections):\", twitter_network.number_of_edges())\n",
    "\n",
    "\n",
    "# Print Degree Centrality for Some Nodes:\n",
    "# Calculate degree centrality of the network\n",
    "degree_centrality = nx.degree_centrality(twitter_network)\n",
    "\n",
    "# Now, print Degree Centrality for some nodes\n",
    "for user, centrality in list(degree_centrality.items())[:5]:\n",
    "    print(f\"User: {user}, Degree Centrality: {centrality}\")\n",
    "\n",
    "    \n",
    "# Print Some Nodes and Their Connections:\n",
    "#for user in list(twitter_network.nodes())[:5]:\n",
    "#    print(f\"User: {user}, Connected to: {list(twitter_network.neighbors(user))}\")\n"
   ]
  },
  {
   "cell_type": "markdown",
   "id": "d2dc7747",
   "metadata": {},
   "source": [
    "## Sentiment Analysis Function"
   ]
  },
  {
   "cell_type": "code",
   "execution_count": null,
   "id": "be0bd152",
   "metadata": {},
   "outputs": [],
   "source": [
    "from nltk.sentiment.vader import SentimentIntensityAnalyzer\n",
    "\n",
    "def perform_sentiment_analysis(text):\n",
    "    sia = SentimentIntensityAnalyzer()\n",
    "    sentiment_scores = sia.polarity_scores(text)\n",
    "    # Determine sentiment based on compound score\n",
    "    # Replace with actual logic\n",
    "    return 'Sentiment', sentiment_scores\n",
    "\n",
    "# This would have already been done as part of your DataFrame processing\n",
    "tweets_df['Sentiment'], tweets_df['Sentiment_Scores'] = zip(*tweets_df['Text'].apply(perform_sentiment_analysis))\n",
    "\n",
    "# Print the result\n",
    "print(tweets_df[['Text', 'Sentiment', 'Sentiment_Scores']].head())"
   ]
  },
  {
   "cell_type": "markdown",
   "id": "414be16c",
   "metadata": {},
   "source": [
    "## Topic Modeling Function"
   ]
  },
  {
   "cell_type": "code",
   "execution_count": 7,
   "id": "43828b4d",
   "metadata": {},
   "outputs": [],
   "source": [
    "import gensim\n",
    "from gensim import corpora\n",
    "\n",
    "def perform_topic_modeling(texts, num_topics=5):\n",
    "    # Placeholder for LDA topic modeling\n",
    "    lda_model = None  # Replace with actual logic\n",
    "    return lda_model\n",
    "\n",
    "# Extract texts for topic modeling\n",
    "tweet_texts = tweets_df['Cleaned_Text'].tolist()\n",
    "lda_model = perform_topic_modeling(tweet_texts, num_topics=5)\n"
   ]
  },
  {
   "cell_type": "markdown",
   "id": "754fa762",
   "metadata": {},
   "source": [
    "## Temporal Analysis Function"
   ]
  },
  {
   "cell_type": "code",
   "execution_count": 8,
   "id": "fe6d0365",
   "metadata": {},
   "outputs": [],
   "source": [
    "import matplotlib.pyplot as plt\n",
    "\n",
    "def perform_temporal_analysis(df):\n",
    "    df['Time'] = pd.to_datetime(df['Time'])\n",
    "    df['Date'] = df['Time'].dt.date\n",
    "    daily_tweet_counts = df.groupby('Date').size().reset_index(name='TweetCount')\n",
    "    # Visualization code goes here\n",
    "    return daily_tweet_counts\n",
    "\n",
    "temporal_data = perform_temporal_analysis(tweets_df)\n"
   ]
  },
  {
   "cell_type": "markdown",
   "id": "c5f051b6",
   "metadata": {},
   "source": [
    "## Geographical Analysis"
   ]
  },
  {
   "cell_type": "code",
   "execution_count": 23,
   "id": "8e8d03df",
   "metadata": {},
   "outputs": [],
   "source": [
    "def geographical_analysis(df):\n",
    "    if 'City' in df.columns:\n",
    "        city_counts = df['City'].value_counts()\n",
    "        return city_counts\n",
    "    else:\n",
    "        print(\"No location data available.\")\n",
    "        return None\n",
    "    \n",
    "city_counts = geographical_analysis(tweets_df)\n"
   ]
  },
  {
   "cell_type": "markdown",
   "id": "aea4f6bb",
   "metadata": {},
   "source": [
    "## User Engagement Analysis"
   ]
  },
  {
   "cell_type": "code",
   "execution_count": 24,
   "id": "16e832f9",
   "metadata": {},
   "outputs": [],
   "source": [
    "def engagement_analysis(df):\n",
    "    df['Total_Engagement'] = df['Likes'] + df['Retweets']\n",
    "    top_engaged = df.sort_values(by='Total_Engagement', ascending=False).head(10)\n",
    "    return top_engaged[['UserName', 'Text', 'Likes', 'Retweets', 'Total_Engagement']]\n",
    "\n",
    "top_engaged_tweets = engagement_analysis(tweets_df)\n"
   ]
  },
  {
   "cell_type": "markdown",
   "id": "86421017",
   "metadata": {},
   "source": [
    "## Visualization Enhancements"
   ]
  },
  {
   "cell_type": "code",
   "execution_count": 25,
   "id": "cf577528",
   "metadata": {},
   "outputs": [],
   "source": [
    "def visualize_sentiment_over_time(df):\n",
    "    if 'Date' not in df.columns:\n",
    "        df['Date'] = pd.to_datetime(df['Time']).dt.date\n",
    "\n",
    "    sentiment_over_time = df.groupby(['Date', 'Sentiment']).size().unstack().fillna(0)\n",
    "    sentiment_over_time.plot(kind='line', figsize=(15, 6), title='Sentiment Over Time')\n",
    "    plt.xlabel('Date')\n",
    "    plt.ylabel('Tweet Count')\n",
    "    plt.show()\n",
    "    \n",
    "visualize_sentiment_over_time(tweets_df)\n"
   ]
  },
  {
   "cell_type": "markdown",
   "id": "c39e9c9d",
   "metadata": {},
   "source": [
    "## Advanced Topic Analysis"
   ]
  },
  {
   "cell_type": "code",
   "execution_count": 26,
   "id": "93ebdc91",
   "metadata": {},
   "outputs": [],
   "source": [
    "def topic_trend_analysis(df, lda_model, dictionary):\n",
    "    def assign_topic(text):\n",
    "        bow = dictionary.doc2bow(text.split())\n",
    "        topic_probs = lda_model.get_document_topics(bow)\n",
    "        # Assigns the topic with the highest probability\n",
    "        return sorted(topic_probs, key=lambda x: x[1], reverse=True)[0][0]\n",
    "\n",
    "    df['Topic'] = df['Cleaned_Text'].apply(assign_topic)\n",
    "    topic_trend = df.groupby(['Date', 'Topic']).size().unstack().fillna(0)\n",
    "    topic_trend.plot(kind='line', figsize=(15, 6), title='Topic Trends Over Time')\n",
    "    plt.xlabel('Date')\n",
    "    plt.ylabel('Tweet Count')\n",
    "    plt.show()\n",
    "    \n",
    "topic_trend_analysis(tweets_df, lda_model, dictionary)\n"
   ]
  },
  {
   "cell_type": "markdown",
   "id": "725aa315",
   "metadata": {},
   "source": [
    "## Network Analysis Visualization"
   ]
  },
  {
   "cell_type": "code",
   "execution_count": 19,
   "id": "162fd575",
   "metadata": {},
   "outputs": [],
   "source": [
    "def visualize_network(G):\n",
    "    plt.figure(figsize=(12, 12))\n",
    "    nx.draw(G, with_labels=True, node_size=20, edge_color=\"silver\", font_size=10)\n",
    "    plt.title(\"Twitter Interaction Network\")\n",
    "    plt.show()\n",
    "    \n",
    "visualize_network(twitter_network)\n"
   ]
  },
  {
   "cell_type": "code",
   "execution_count": null,
   "id": "0dff9d5b",
   "metadata": {},
   "outputs": [],
   "source": []
  }
 ],
 "metadata": {
  "kernelspec": {
   "display_name": "Python 3 (ipykernel)",
   "language": "python",
   "name": "python3"
  },
  "language_info": {
   "codemirror_mode": {
    "name": "ipython",
    "version": 3
   },
   "file_extension": ".py",
   "mimetype": "text/x-python",
   "name": "python",
   "nbconvert_exporter": "python",
   "pygments_lexer": "ipython3",
   "version": "3.9.13"
  }
 },
 "nbformat": 4,
 "nbformat_minor": 5
}
